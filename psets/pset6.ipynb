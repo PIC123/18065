{
 "cells": [
  {
   "cell_type": "markdown",
   "id": "a65bff2e",
   "metadata": {},
   "source": [
    "# 18.065 Problem Set 6\n",
    "\n",
    "Due Friday May 5."
   ]
  },
  {
   "cell_type": "markdown",
   "id": "46c6dd3c",
   "metadata": {},
   "source": [
    "## Problem 1 (10+10 points)\n",
    "\n",
    "**(a)** In class, we showed that if $\\tilde{y} = \\bar{F} y, \\tilde{a} = \\bar{F} a, \\tilde{x} = \\bar{F} x$ where $F$ is the DFT matrix, then $y = a \\circledast x$ (circular convolution) implies $\\tilde{y} = \\tilde{a} \\, \\mbox{.*} \\, \\tilde{x}$ (element-wise product).   Show that the reverse is also true: show that if $\\tilde{y} = \\tilde{a} \\circledast \\tilde{x}$, then $y = \\alpha (a \\, \\mbox{.*} \\, x) $ for some scale factor $\\alpha = ???$. \n",
    "\n",
    "**(b)** Differentiating through convolutions, in class, involved the \"reversal\" permutation $R$:\n",
    "$$\n",
    "R\\begin{pmatrix} x_0 \\\\ x_1 \\\\ x_2 \\\\ \\vdots \\\\ x_{N-1} \\end{pmatrix}\n",
    "=\\begin{pmatrix} x_0 \\\\ x_{N-1} \\\\ x_{N-2} \\\\ \\vdots \\\\ x_1 \\end{pmatrix}\n",
    "$$\n",
    "What happens when we combine this with a DFT, e.g. to apply the convolution theorem?  Show that $FRx = \\bar{F}x$.\n",
    "\n",
    "(This is illustrated by the code below: `fft(x)` computes $Fx$ and `bfft(x)` computes $\\bar{F}x$ using the [FFTW.jl package](https://github.com/JuliaMath/FFTW.jl).)"
   ]
  },
  {
   "cell_type": "code",
   "execution_count": null,
   "id": "e1ce6605",
   "metadata": {},
   "outputs": [],
   "source": [
    "using FFTW\n",
    "R(x) = [x[begin]; x[end:-1:begin+1]] # compute R*x\n",
    "x = rand(20)\n",
    "fft(R(x)) ≈ bfft(x)"
   ]
  },
  {
   "cell_type": "markdown",
   "id": "fc26407d",
   "metadata": {},
   "source": [
    "## Problem 2 (10+10+10 points)\n",
    "\n",
    "Think way back to grade school, when you learned to multiply two numbers $a_{N_a-1} \\cdots a_2 a_1 a_0 \\times x_{N_x-1} \\cdots x_2 x_1 x_0$, where $a_k$ and $x_k$ are the **decimal digits** of two numbers with $N_a$ and $N_x$ digits, respectively.  (That is, $x_{N_x-1} \\cdots x_2 x_1 x_0 = \\sum_k {10}^k x_k$.)\n",
    "\n",
    "**(a)** Show that, if you ignore carries (i.e. you allow \"digits\" $> 9$) then the *result* $ y_{N_y-1} \\cdots y_2 y_1 y_0$ is in fact a **convolution** of the digits $y = a \\ast x$, but *not* a cyclic convolution — there is no \"wraparound\".  (What is $N_y$?)\n",
    "\n",
    "**(b)** Show that you can write your previous answer as a *cyclic* convolution simply by \"padding\" $a,x,y$ with zeros.  That is, if you add some zeros to each of them (in the right place) to extend them to a common length $N$ (what must $N$ be?), then $\\mbox{pad}(y,N) = \\mbox{pad}(a,N) \\circledast \\mbox{pad}(x,N)$.\n",
    "\n",
    "**(c)** Write Julia code to compute\n",
    "$$\n",
    "\\underbrace{94403147635990179114}_a \\times \\underbrace{33855185913241354461}_x \\\\\n",
    "= \\underbrace{3196036114011618584561027454963352927554}_y\n",
    "$$\n",
    "by:\n",
    "* Implement the function `pad(x,N)` to zero-pad as in part (b)\n",
    "* Implement a function `conv(a,x)` to perform a circular convolution using $Fx =$ `fft(x)` and $\\bar{F}x =$ `bfft(x)`.  (You may want to call `round.(Int,real(y))` on the result to discard tiny roundoff errors, since the final values should be integers).\n",
    "* Implement a function `carry(y)` to perform the carries: any \"digits\" larger than $10$ should have the tens place \"carried\" to the next digit etc.  (You may find the [`divrem` function](https://docs.julialang.org/en/v1/base/math/#Base.divrem) useful to divide by 10 and find a remainder.)\n",
    "Check that you get the right answer: `bignum(carry(y)) == 3196036114011618584561027454963352927554`."
   ]
  },
  {
   "cell_type": "code",
   "execution_count": null,
   "id": "9ac00a3f",
   "metadata": {},
   "outputs": [],
   "source": [
    "using FFTW\n",
    "\n",
    "a = [4, 1, 1, 9, 7, 1, 0, 9, 9, 5, 3, 6, 7, 4, 1, 3, 0, 4, 4, 9]\n",
    "x = [1, 6, 4, 4, 5, 3, 1, 4, 2, 3, 1, 9, 5, 8, 1, 5, 5, 8, 3, 3]\n",
    "\n",
    "bignum(x) = evalpoly(BigInt(10), x)\n",
    "@show bignum(a)\n",
    "@show bignum(x)\n",
    "@show bignum(a) * bignum(x)"
   ]
  },
  {
   "cell_type": "code",
   "execution_count": null,
   "id": "bdcd7ae6",
   "metadata": {},
   "outputs": [],
   "source": [
    "pad(x, N) = ...\n",
    "conv(x,y) = ..."
   ]
  },
  {
   "cell_type": "code",
   "execution_count": null,
   "id": "53f03b79",
   "metadata": {},
   "outputs": [],
   "source": [
    "function carry(y)\n",
    "    ...\n",
    "end"
   ]
  }
 ],
 "metadata": {
  "@webio": {
   "lastCommId": null,
   "lastKernelId": null
  },
  "kernelspec": {
   "display_name": "Julia 1.8.3",
   "language": "julia",
   "name": "julia-1.8"
  },
  "language_info": {
   "file_extension": ".jl",
   "mimetype": "application/julia",
   "name": "julia",
   "version": "1.8.5"
  }
 },
 "nbformat": 4,
 "nbformat_minor": 5
}
